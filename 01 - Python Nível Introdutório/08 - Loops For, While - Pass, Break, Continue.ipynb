{
 "cells": [
  {
   "cell_type": "markdown",
   "id": "e11601ac",
   "metadata": {},
   "source": [
    "# Data Science Academy\n",
    "### Fundamentos da Liguagem Python Para Análise de Dados e Data Science\n",
    "### Loops For, While - Pass, Break, Continue"
   ]
  },
  {
   "cell_type": "code",
   "execution_count": 2,
   "id": "f11cd157",
   "metadata": {},
   "outputs": [
    {
     "name": "stdout",
     "output_type": "stream",
     "text": [
      "Versão da linguagem Python usada Neste Jupyter Notebook: 3.9.12\n"
     ]
    }
   ],
   "source": [
    "# Versão da Linguagem Python\n",
    "from platform import python_version\n",
    "print(\"Versão da linguagem Python usada Neste Jupyter Notebook:\", python_version())"
   ]
  },
  {
   "cell_type": "markdown",
   "id": "509e7b3b",
   "metadata": {},
   "source": [
    "### Loop For"
   ]
  },
  {
   "cell_type": "code",
   "execution_count": 3,
   "id": "3a48d073",
   "metadata": {},
   "outputs": [
    {
     "name": "stdout",
     "output_type": "stream",
     "text": [
      "2\n",
      "3\n",
      "4\n"
     ]
    }
   ],
   "source": [
    "# Criando uma tupla e imprimindo cada um dos valores\n",
    "tp = (2, 3, 4)\n",
    "for i in tp:\n",
    "    print(i)"
   ]
  },
  {
   "cell_type": "code",
   "execution_count": 6,
   "id": "a22d80c5",
   "metadata": {},
   "outputs": [
    {
     "name": "stdout",
     "output_type": "stream",
     "text": [
      "Data\n",
      "Science\n",
      "Academy\n"
     ]
    }
   ],
   "source": [
    "# Criando uma lista e imprimindo cada um dos valores\n",
    "list_strings = [\"Data\", \"Science\", \"Academy\"]\n",
    "for i in list_strings:\n",
    "    print(i)"
   ]
  },
  {
   "cell_type": "code",
   "execution_count": 8,
   "id": "01fcffda",
   "metadata": {},
   "outputs": [
    {
     "name": "stdout",
     "output_type": "stream",
     "text": [
      "0\n",
      "1\n",
      "2\n",
      "3\n",
      "4\n"
     ]
    }
   ],
   "source": [
    "# Imprimindo os valores no intervalo entre 0 e 5 (exclusive)\n",
    "for item in range(0, 5):\n",
    "    print(item)"
   ]
  },
  {
   "cell_type": "code",
   "execution_count": 9,
   "id": "507ee884",
   "metadata": {},
   "outputs": [
    {
     "name": "stdout",
     "output_type": "stream",
     "text": [
      "2\n",
      "4\n",
      "6\n",
      "8\n",
      "10\n"
     ]
    }
   ],
   "source": [
    "# Imprimindo os números pares da lista de números\n",
    "list_num = [1, 2, 3, 4, 5, 6, 7, 8, 9, 10]\n",
    "for num in list_num:\n",
    "    if num % 2 == 0:\n",
    "        print(num)"
   ]
  },
  {
   "cell_type": "code",
   "execution_count": 11,
   "id": "d3e41617",
   "metadata": {},
   "outputs": [
    {
     "name": "stdout",
     "output_type": "stream",
     "text": [
      "0\n",
      "5\n",
      "10\n",
      "15\n",
      "20\n",
      "25\n",
      "30\n",
      "35\n",
      "40\n",
      "45\n",
      "50\n",
      "55\n",
      "60\n",
      "65\n",
      "70\n",
      "75\n",
      "80\n",
      "85\n",
      "90\n",
      "95\n",
      "100\n"
     ]
    }
   ],
   "source": [
    "# Listando os números no intervalo entre 0 e 101, com incremento de 2\n",
    "for item in range(0, 101, 5):\n",
    "    print(item)"
   ]
  },
  {
   "cell_type": "code",
   "execution_count": 15,
   "id": "1da621cb",
   "metadata": {},
   "outputs": [
    {
     "name": "stdout",
     "output_type": "stream",
     "text": [
      "P\n",
      "y\n",
      "t\n",
      "h\n",
      "o\n",
      "n\n",
      " \n",
      "é\n",
      " \n",
      "d\n",
      "i\n",
      "v\n",
      "e\n",
      "r\n",
      "t\n",
      "i\n",
      "d\n",
      "o\n",
      "!\n"
     ]
    }
   ],
   "source": [
    "# Strings também são sequências\n",
    "for caracter in \"Python é divertido!\":\n",
    "    print(caracter)"
   ]
  },
  {
   "cell_type": "markdown",
   "id": "8b4ef9d6",
   "metadata": {},
   "source": [
    "### Loop For Aninhado"
   ]
  },
  {
   "cell_type": "code",
   "execution_count": 17,
   "id": "31650f0c",
   "metadata": {},
   "outputs": [
    {
     "name": "stdout",
     "output_type": "stream",
     "text": [
      "\n",
      " 0\n",
      "\n",
      " 0\n",
      "\n",
      " 0\n",
      "----\n",
      "\n",
      " 1\n",
      "\n",
      " 2\n",
      "\n",
      " 3\n",
      "----\n",
      "\n",
      " 2\n",
      "\n",
      " 4\n",
      "\n",
      " 6\n",
      "----\n",
      "\n",
      " 3\n",
      "\n",
      " 6\n",
      "\n",
      " 9\n",
      "----\n",
      "\n",
      " 4\n",
      "\n",
      " 8\n",
      "\n",
      " 12\n",
      "----\n"
     ]
    }
   ],
   "source": [
    "# Loops aninhados\n",
    "lista1 = [0, 1, 2, 3, 4]\n",
    "lista2 = [1, 2, 3]\n",
    "\n",
    "# Loop externo\n",
    "for elemento_lista1 in lista1:\n",
    "    \n",
    "    #Loop interno\n",
    "    for elemento_lista2 in lista2:\n",
    "        print(\"\\n\", elemento_lista1 * elemento_lista2)\n",
    "    \n",
    "    print(\"----\")"
   ]
  },
  {
   "cell_type": "code",
   "execution_count": 19,
   "id": "ac7a9380",
   "metadata": {},
   "outputs": [
    {
     "name": "stdout",
     "output_type": "stream",
     "text": [
      "O número 47 foi encontrado nas duas listas!\n"
     ]
    }
   ],
   "source": [
    "# O número 47 aparece nas duas listas?\n",
    "list1 = [10, 16, 24, 39, 47]\n",
    "list2 = [32, 89, 47, 76, 12]\n",
    "\n",
    "# Loop externo\n",
    "for elemento_list1 in list1:\n",
    "    \n",
    "    #Loop interno\n",
    "    for elemento_list2 in list2:\n",
    "        \n",
    "        # Condicional\n",
    "        if elemento_list1 == 47 and elemento_list2 == 47:\n",
    "            print(\"O número 47 foi encontrado nas duas listas!\")"
   ]
  },
  {
   "cell_type": "code",
   "execution_count": 21,
   "id": "b52155b2",
   "metadata": {},
   "outputs": [
    {
     "name": "stdout",
     "output_type": "stream",
     "text": [
      "A soma dos números pares das duas listas é igual a 170\n"
     ]
    }
   ],
   "source": [
    "# Some os números pares da primeira lista com os números pares da segunda lista\n",
    "list1 = [10, 16, 24, 39, 47]\n",
    "list2 = [32, 89, 47, 76, 12]\n",
    "soma = 0\n",
    "\n",
    "# Loop externo\n",
    "for lista in [list1, list2]:\n",
    "    \n",
    "    # Loop interno\n",
    "    for num in lista:\n",
    "        \n",
    "        # Condicional\n",
    "        if num % 2 == 0:\n",
    "            soma += num\n",
    "\n",
    "print(\"A soma dos números pares das duas listas é igual a\", soma)"
   ]
  },
  {
   "cell_type": "code",
   "execution_count": 22,
   "id": "c4f0a3ee",
   "metadata": {},
   "outputs": [
    {
     "data": {
      "text/plain": [
       "[10, 16, 24, 39, 47, 32, 89, 47, 76, 12]"
      ]
     },
     "execution_count": 22,
     "metadata": {},
     "output_type": "execute_result"
    }
   ],
   "source": [
    "# Listas podem ser comcetenandas em Python\n",
    "list1 + list2"
   ]
  },
  {
   "cell_type": "code",
   "execution_count": 25,
   "id": "0a4abad3",
   "metadata": {},
   "outputs": [
    {
     "name": "stdout",
     "output_type": "stream",
     "text": [
      "Soma dos valores pares: 170\n"
     ]
    }
   ],
   "source": [
    "# Some os números pares da primeira lista com os números pares da segunda lista\n",
    "list1 = [10, 16, 24, 39, 47]\n",
    "list2 = [32, 89, 47, 76, 12]\n",
    "soma = 0\n",
    "\n",
    "\n",
    "for num in list1 + list2:\n",
    "    if num % 2 == 0:\n",
    "        soma += num\n",
    "print(\"Soma dos valores pares:\", soma)"
   ]
  },
  {
   "cell_type": "code",
   "execution_count": 26,
   "id": "2ec3aaae",
   "metadata": {},
   "outputs": [
    {
     "name": "stdout",
     "output_type": "stream",
     "text": [
      "Maior número:  215\n"
     ]
    }
   ],
   "source": [
    "# Loop em lista de listas (matrizes) para encontrar o maior número\n",
    "matriz = [[42, 23, 34], [100, 215, 114], [10.1, 98.7, 12.3]]\n",
    "maior_numero = 0\n",
    "\n",
    "#Loop externo\n",
    "for linha in matriz:\n",
    "    \n",
    "    #Loop interno\n",
    "    for num in linha:\n",
    "        \n",
    "        # Condicional\n",
    "        if num > maior_numero:\n",
    "            maior_numero = num\n",
    "print(\"Maior número: \", maior_numero)"
   ]
  },
  {
   "cell_type": "code",
   "execution_count": 32,
   "id": "881a0b4c",
   "metadata": {},
   "outputs": [
    {
     "name": "stdout",
     "output_type": "stream",
     "text": [
      "k1\n",
      "k2\n",
      "k3\n"
     ]
    }
   ],
   "source": [
    "# Listando as chaves de um dicionário\n",
    "dict = {\"k1\":\"Python\", \"k2\":\"R\", \"k3\":\"Scala\"}\n",
    "for item in dict:\n",
    "    print(item)"
   ]
  },
  {
   "cell_type": "code",
   "execution_count": 33,
   "id": "da46e3ba",
   "metadata": {},
   "outputs": [
    {
     "name": "stdout",
     "output_type": "stream",
     "text": [
      "k1 Python\n",
      "k2 R\n",
      "k3 Scala\n"
     ]
    }
   ],
   "source": [
    "# Listando as chaves de um dicionário\n",
    "dict = {\"k1\":\"Python\", \"k2\":\"R\", \"k3\":\"Scala\"}\n",
    "for k, v in dict.items():\n",
    "    print(k, v)"
   ]
  },
  {
   "cell_type": "markdown",
   "id": "cf52c568",
   "metadata": {},
   "source": [
    "### Loop While"
   ]
  },
  {
   "cell_type": "code",
   "execution_count": 36,
   "id": "87fc940c",
   "metadata": {},
   "outputs": [
    {
     "name": "stdout",
     "output_type": "stream",
     "text": [
      "0\n",
      "1\n",
      "2\n",
      "3\n",
      "4\n",
      "5\n",
      "6\n",
      "7\n",
      "8\n",
      "9\n"
     ]
    }
   ],
   "source": [
    "# Usando o loop while para imprimir de 0 a 9.\n",
    "# A condição tem que deixar de ser verdadeira dentro do loop, senão pode travar o navegador ou mesmo o computador.\n",
    "valor = 0\n",
    "while valor < 10:\n",
    "    print(valor)\n",
    "    valor += 1"
   ]
  },
  {
   "cell_type": "code",
   "execution_count": 37,
   "id": "16cf1d3d",
   "metadata": {},
   "outputs": [],
   "source": [
    "# Entra no loop somente se a condição for verdadeira\n",
    "valor = 11\n",
    "while valor < 10:\n",
    "    print(valor)\n",
    "    valor = valor + 1"
   ]
  },
  {
   "cell_type": "code",
   "execution_count": 39,
   "id": "5665748f",
   "metadata": {},
   "outputs": [
    {
     "name": "stdout",
     "output_type": "stream",
     "text": [
      "O valor de x nesta interação é:  0\n",
      "X ainda é menor que 10, somando 1 a x\n",
      "O valor de x nesta interação é:  1\n",
      "X ainda é menor que 10, somando 1 a x\n",
      "O valor de x nesta interação é:  2\n",
      "X ainda é menor que 10, somando 1 a x\n",
      "O valor de x nesta interação é:  3\n",
      "X ainda é menor que 10, somando 1 a x\n",
      "O valor de x nesta interação é:  4\n",
      "X ainda é menor que 10, somando 1 a x\n",
      "O valor de x nesta interação é:  5\n",
      "X ainda é menor que 10, somando 1 a x\n",
      "O valor de x nesta interação é:  6\n",
      "X ainda é menor que 10, somando 1 a x\n",
      "O valor de x nesta interação é:  7\n",
      "X ainda é menor que 10, somando 1 a x\n",
      "O valor de x nesta interação é:  8\n",
      "X ainda é menor que 10, somando 1 a x\n",
      "O valor de x nesta interação é:  9\n",
      "X ainda é menor que 10, somando 1 a x\n",
      "Loop concluído!\n",
      "10\n"
     ]
    }
   ],
   "source": [
    "# Também é possível usar acláusula else para encerrar o loop while\n",
    "x = 0\n",
    "\n",
    "while x < 10:\n",
    "    print(\"O valor de x nesta interação é: \", x)\n",
    "    print(\"X ainda é menor que 10, somando 1 a x\")\n",
    "    x += 1\n",
    "else:\n",
    "    print(\"Loop concluído!\")\n",
    "print(x)"
   ]
  },
  {
   "cell_type": "markdown",
   "id": "5b23341e",
   "metadata": {},
   "source": [
    "### Pass, Break, Continue"
   ]
  },
  {
   "cell_type": "code",
   "execution_count": 40,
   "id": "8f58cae1",
   "metadata": {},
   "outputs": [
    {
     "name": "stdout",
     "output_type": "stream",
     "text": [
      "0\n",
      "1\n",
      "2\n",
      "3\n"
     ]
    }
   ],
   "source": [
    "# Se encontramos o número 4 interrompemos o loop\n",
    "valor = 0\n",
    "while valor < 10:\n",
    "    if valor == 4:\n",
    "        break\n",
    "    else:\n",
    "        pass\n",
    "    print(valor)\n",
    "    valor += 1\n",
    "    "
   ]
  },
  {
   "cell_type": "code",
   "execution_count": 41,
   "id": "b94ffb89",
   "metadata": {},
   "outputs": [
    {
     "name": "stdout",
     "output_type": "stream",
     "text": [
      "P\n",
      "y\n",
      "t\n",
      "h\n",
      "o\n",
      "n\n",
      " \n",
      "é\n",
      " \n",
      " \n",
      "i\n",
      "n\n",
      "c\n",
      "r\n",
      "í\n",
      "v\n",
      "e\n",
      "l\n",
      "!\n"
     ]
    }
   ],
   "source": [
    "# Desconsideramos a letra z ao imprimir os caracteres da frase\n",
    "for letra in \"Python é zzz incrível!\":\n",
    "    if letra == \"z\":\n",
    "        continue\n",
    "    print(letra)"
   ]
  },
  {
   "cell_type": "markdown",
   "id": "92888483",
   "metadata": {},
   "source": [
    "### While e For Juntos\n",
    "Vamos encontrar números primos em uma coleçãp de números usando loop While e For juntos."
   ]
  },
  {
   "cell_type": "code",
   "execution_count": 1,
   "id": "bd5b49d9",
   "metadata": {},
   "outputs": [
    {
     "name": "stdout",
     "output_type": "stream",
     "text": [
      "[2, 3, 5, 7, 11, 13, 17, 19, 23, 29]\n",
      "CPU times: total: 0 ns\n",
      "Wall time: 0 ns\n"
     ]
    }
   ],
   "source": [
    "%%time\n",
    "\n",
    "# Encontrando números primos entre 2 e 30 usando loop for e while\n",
    "\n",
    "# Variável para armazenar números primos\n",
    "primos = []\n",
    "\n",
    "# Loop for para percorrer números de 2 a 30\n",
    "for num in range(2, 31):\n",
    "    \n",
    "    # variavel controle\n",
    "    eh_primo = True\n",
    "    \n",
    "    # loop while para verificar se o número é primo\n",
    "    i = 2\n",
    "    while i <= num // 2:\n",
    "        if num % i == 0:\n",
    "            eh_primo = False\n",
    "            break\n",
    "        i += 1\n",
    "    \n",
    "    # Adicionando o número primo a lista\n",
    "    if eh_primo:\n",
    "        primos.append(num)\n",
    "        \n",
    "# Imprimindo a lista de números\n",
    "print(primos)"
   ]
  },
  {
   "cell_type": "code",
   "execution_count": 2,
   "id": "b9d1c66b",
   "metadata": {},
   "outputs": [
    {
     "name": "stdout",
     "output_type": "stream",
     "text": [
      "2 é um número primo\n",
      "3 é um número primo\n",
      "5 é um número primo\n",
      "7 é um número primo\n",
      "11 é um número primo\n",
      "13 é um número primo\n",
      "17 é um número primo\n",
      "19 é um número primo\n",
      "23 é um número primo\n",
      "29 é um número primo\n",
      "CPU times: total: 0 ns\n",
      "Wall time: 995 µs\n"
     ]
    }
   ],
   "source": [
    "%%time\n",
    "\n",
    "# Encontrando números primos entre 2 e 30 usando loop for e while (outro exemplo)\n",
    "\n",
    "# Loop for para percorrer números de 2 a 30\n",
    "for i in range(2, 31):\n",
    "    \n",
    "    # Variavel de controle\n",
    "    j = 2\n",
    "    \n",
    "    # Contador\n",
    "    valor = 0\n",
    "    \n",
    "    # loop while para verificar se o número é primo\n",
    "    while j < i:\n",
    "        if i % j == 0:\n",
    "            valor = 1\n",
    "            j = j + 1\n",
    "        else:\n",
    "            j = j + 1\n",
    "            \n",
    "    if valor == 0:\n",
    "        print(f\"{i} é um número primo\")\n",
    "        valor = 0\n",
    "    else:\n",
    "        valor = 0\n"
   ]
  },
  {
   "cell_type": "markdown",
   "id": "738f7ff4",
   "metadata": {},
   "source": [
    "## Fim!"
   ]
  },
  {
   "cell_type": "code",
   "execution_count": null,
   "id": "da0f4a7c",
   "metadata": {},
   "outputs": [],
   "source": []
  }
 ],
 "metadata": {
  "kernelspec": {
   "display_name": "Python 3 (ipykernel)",
   "language": "python",
   "name": "python3"
  },
  "language_info": {
   "codemirror_mode": {
    "name": "ipython",
    "version": 3
   },
   "file_extension": ".py",
   "mimetype": "text/x-python",
   "name": "python",
   "nbconvert_exporter": "python",
   "pygments_lexer": "ipython3",
   "version": "3.9.12"
  }
 },
 "nbformat": 4,
 "nbformat_minor": 5
}
