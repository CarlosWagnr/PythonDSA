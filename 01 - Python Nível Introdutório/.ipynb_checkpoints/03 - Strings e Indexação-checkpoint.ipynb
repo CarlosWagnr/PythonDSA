{
 "cells": [
  {
   "cell_type": "markdown",
   "id": "644e39ed",
   "metadata": {},
   "source": [
    "# Data Science Academy\n",
    "### Fundamentos da Liguagem Python Para Análise de Dados e Data Science\n",
    "### Números e Operações Matemáticas"
   ]
  },
  {
   "cell_type": "code",
   "execution_count": 1,
   "id": "497e8ef0",
   "metadata": {},
   "outputs": [
    {
     "name": "stdout",
     "output_type": "stream",
     "text": [
      "Versão da linguagem Python usada Neste Jupyter Notebook: 3.9.12\n"
     ]
    }
   ],
   "source": [
    "# Versão da Linguagem Python\n",
    "from platform import python_version\n",
    "print(\"Versão da linguagem Python usada Neste Jupyter Notebook:\", python_version())"
   ]
  },
  {
   "cell_type": "markdown",
   "id": "6bf79b8f",
   "metadata": {},
   "source": [
    "## Criando uma string\n",
    "Para criar uma string em Pythonpode usar aspas simples ou duplas."
   ]
  },
  {
   "cell_type": "code",
   "execution_count": 3,
   "id": "7aca1e6d",
   "metadata": {},
   "outputs": [
    {
     "data": {
      "text/plain": [
       "'Criando uma string em \"Python\"'"
      ]
     },
     "execution_count": 3,
     "metadata": {},
     "output_type": "execute_result"
    }
   ],
   "source": [
    "# Podemos usar aspas simples ou duplas\n",
    "'Criando uma string em \"Python\"'"
   ]
  },
  {
   "cell_type": "markdown",
   "id": "46308a19",
   "metadata": {},
   "source": [
    "## Imprimindo uma String"
   ]
  },
  {
   "cell_type": "code",
   "execution_count": 6,
   "id": "261d2aee",
   "metadata": {},
   "outputs": [
    {
     "name": "stdout",
     "output_type": "stream",
     "text": [
      "Testando Strings em Python.\n"
     ]
    }
   ],
   "source": [
    "print('Testando Strings em Python.')"
   ]
  },
  {
   "cell_type": "code",
   "execution_count": 7,
   "id": "47470d3f",
   "metadata": {},
   "outputs": [
    {
     "name": "stdout",
     "output_type": "stream",
     "text": [
      "Testando \n",
      " Strings \n",
      " em \n",
      " Python.\n"
     ]
    }
   ],
   "source": [
    "print('Testando \\n Strings \\n em \\n Python.')"
   ]
  },
  {
   "cell_type": "code",
   "execution_count": 10,
   "id": "e493fab0",
   "metadata": {},
   "outputs": [
    {
     "name": "stdout",
     "output_type": "stream",
     "text": [
      "\n",
      "    Python\n",
      "    SQL\n",
      "    Spark\n",
      "    Cloud\n",
      "\n"
     ]
    }
   ],
   "source": [
    "# Imprimindo strings com formatação definida.\n",
    "print(\"\"\"\n",
    "    Python\n",
    "    SQL\n",
    "    Spark\n",
    "    Cloud\n",
    "\"\"\")"
   ]
  },
  {
   "cell_type": "markdown",
   "id": "1d1a4eea",
   "metadata": {},
   "source": [
    "## Indexando Strings"
   ]
  },
  {
   "cell_type": "code",
   "execution_count": 12,
   "id": "eaf2e510",
   "metadata": {},
   "outputs": [
    {
     "name": "stdout",
     "output_type": "stream",
     "text": [
      "Data Science Academy\n"
     ]
    }
   ],
   "source": [
    "# Atribuindo uma string\n",
    "s = 'Data Science Academy'\n",
    "print(s)"
   ]
  },
  {
   "cell_type": "markdown",
   "id": "00bc271c",
   "metadata": {},
   "source": [
    "#### Indexação em Python começa por zero."
   ]
  },
  {
   "cell_type": "code",
   "execution_count": 13,
   "id": "eb953690",
   "metadata": {},
   "outputs": [
    {
     "data": {
      "text/plain": [
       "'D'"
      ]
     },
     "execution_count": 13,
     "metadata": {},
     "output_type": "execute_result"
    }
   ],
   "source": [
    "# Primeiro elemento da string\n",
    "s[0]"
   ]
  },
  {
   "cell_type": "code",
   "execution_count": 14,
   "id": "c26c6662",
   "metadata": {},
   "outputs": [
    {
     "data": {
      "text/plain": [
       "'a'"
      ]
     },
     "execution_count": 14,
     "metadata": {},
     "output_type": "execute_result"
    }
   ],
   "source": [
    "s[1]"
   ]
  },
  {
   "cell_type": "markdown",
   "id": "abca8b22",
   "metadata": {},
   "source": [
    "#### Podemos usar um : para executar um slicing que faz a leitura de tudo até um ponto designado."
   ]
  },
  {
   "cell_type": "code",
   "execution_count": 16,
   "id": "e67facd3",
   "metadata": {},
   "outputs": [
    {
     "data": {
      "text/plain": [
       "'ata Science Academy'"
      ]
     },
     "execution_count": 16,
     "metadata": {},
     "output_type": "execute_result"
    }
   ],
   "source": [
    "# Retorna todos os elementos da string, começando pela posição até o fim da string\n",
    "s[1:]"
   ]
  },
  {
   "cell_type": "code",
   "execution_count": 17,
   "id": "d36216ec",
   "metadata": {},
   "outputs": [
    {
     "data": {
      "text/plain": [
       "'Dat'"
      ]
     },
     "execution_count": 17,
     "metadata": {},
     "output_type": "execute_result"
    }
   ],
   "source": [
    "# Retorna tudo até a posição 3\n",
    "s[:3]"
   ]
  },
  {
   "cell_type": "code",
   "execution_count": 20,
   "id": "2f4d4731",
   "metadata": {},
   "outputs": [
    {
     "data": {
      "text/plain": [
       "'y'"
      ]
     },
     "execution_count": 20,
     "metadata": {},
     "output_type": "execute_result"
    }
   ],
   "source": [
    "# Nós podemos usar a indexação negativa e ler de trás para frente\n",
    "s[-1]"
   ]
  },
  {
   "cell_type": "code",
   "execution_count": 22,
   "id": "b9d7b79f",
   "metadata": {},
   "outputs": [
    {
     "data": {
      "text/plain": [
       "'Data Science Academ'"
      ]
     },
     "execution_count": 22,
     "metadata": {},
     "output_type": "execute_result"
    }
   ],
   "source": [
    "# Retorna tudo exceto a última letra.\n",
    "s[:-1]"
   ]
  },
  {
   "cell_type": "markdown",
   "id": "c54fa906",
   "metadata": {},
   "source": [
    "Podemos usar a notação de indicee fatiar a string em pedaços específicos (o padrão é 1).\n",
    "Por exemplo, podmeos usar dois pontos duas vezes em uma linha, e em seguida, um número que especifique a frequência para retornar elementos"
   ]
  },
  {
   "cell_type": "code",
   "execution_count": 29,
   "id": "ce713b28",
   "metadata": {},
   "outputs": [
    {
     "data": {
      "text/plain": [
       "'Data Science Academy'"
      ]
     },
     "execution_count": 29,
     "metadata": {},
     "output_type": "execute_result"
    }
   ],
   "source": [
    "s[::1]"
   ]
  },
  {
   "cell_type": "code",
   "execution_count": 30,
   "id": "ae297531",
   "metadata": {},
   "outputs": [
    {
     "data": {
      "text/plain": [
       "'Dt cec cdm'"
      ]
     },
     "execution_count": 30,
     "metadata": {},
     "output_type": "execute_result"
    }
   ],
   "source": [
    "# Retorna saltando de dois em dois caracteres\n",
    "s[::2]"
   ]
  },
  {
   "cell_type": "code",
   "execution_count": 31,
   "id": "35cf6b0f",
   "metadata": {},
   "outputs": [
    {
     "data": {
      "text/plain": [
       "'ymedacA ecneicS ataD'"
      ]
     },
     "execution_count": 31,
     "metadata": {},
     "output_type": "execute_result"
    }
   ],
   "source": [
    "# Retorna os caracteres invertidos\n",
    "s[::-1]"
   ]
  },
  {
   "cell_type": "markdown",
   "id": "e9196947",
   "metadata": {},
   "source": [
    "### Propriedades de Strings"
   ]
  },
  {
   "cell_type": "code",
   "execution_count": null,
   "id": "c4b87965",
   "metadata": {},
   "outputs": [],
   "source": []
  },
  {
   "cell_type": "code",
   "execution_count": null,
   "id": "ffa8cf3d",
   "metadata": {},
   "outputs": [],
   "source": []
  }
 ],
 "metadata": {
  "kernelspec": {
   "display_name": "Python 3 (ipykernel)",
   "language": "python",
   "name": "python3"
  },
  "language_info": {
   "codemirror_mode": {
    "name": "ipython",
    "version": 3
   },
   "file_extension": ".py",
   "mimetype": "text/x-python",
   "name": "python",
   "nbconvert_exporter": "python",
   "pygments_lexer": "ipython3",
   "version": "3.9.12"
  }
 },
 "nbformat": 4,
 "nbformat_minor": 5
}
