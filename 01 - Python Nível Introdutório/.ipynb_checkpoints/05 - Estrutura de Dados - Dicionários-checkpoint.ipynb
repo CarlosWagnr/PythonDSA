{
 "cells": [
  {
   "cell_type": "markdown",
   "id": "885e4e3f",
   "metadata": {},
   "source": [
    "## Data Science Academy\n",
    "### Fundamentos da Liguagem Python Para Análise de Dados e Data Science\n",
    "### Estruturas de Dados - Dicionários"
   ]
  },
  {
   "cell_type": "code",
   "execution_count": 1,
   "id": "3c80f4ee",
   "metadata": {},
   "outputs": [
    {
     "name": "stdout",
     "output_type": "stream",
     "text": [
      "Versão da linguagem Python usada Neste Jupyter Notebook: 3.9.12\n"
     ]
    }
   ],
   "source": [
    "# Versão da Linguagem Python\n",
    "from platform import python_version\n",
    "print(\"Versão da linguagem Python usada Neste Jupyter Notebook:\", python_version())"
   ]
  },
  {
   "cell_type": "markdown",
   "id": "24802a18",
   "metadata": {},
   "source": [
    "### Trabalhando com Dicionários"
   ]
  },
  {
   "cell_type": "code",
   "execution_count": 2,
   "id": "6f2f2724",
   "metadata": {},
   "outputs": [
    {
     "name": "stdout",
     "output_type": "stream",
     "text": [
      "{'Pedro': 24, 'Ana': 22, 'Ronaldo': 26, 'Janaina': 25}\n"
     ]
    }
   ],
   "source": [
    "# Criando um Dicionário\n",
    "estudantes_dict = {\"Pedro\":24, \"Ana\":22, \"Ronaldo\":26, \"Janaina\":25}\n",
    "print(estudantes_dict)"
   ]
  },
  {
   "cell_type": "code",
   "execution_count": 3,
   "id": "aca154a9",
   "metadata": {},
   "outputs": [
    {
     "data": {
      "text/plain": [
       "24"
      ]
     },
     "execution_count": 3,
     "metadata": {},
     "output_type": "execute_result"
    }
   ],
   "source": [
    "estudantes_dict[\"Pedro\"]"
   ]
  },
  {
   "cell_type": "code",
   "execution_count": 6,
   "id": "c84be29a",
   "metadata": {},
   "outputs": [],
   "source": [
    "# Adicionando um estudante a lista\n",
    "estudantes_dict[\"Marcelo\"] = 23"
   ]
  },
  {
   "cell_type": "code",
   "execution_count": 7,
   "id": "e41ce55d",
   "metadata": {},
   "outputs": [
    {
     "data": {
      "text/plain": [
       "23"
      ]
     },
     "execution_count": 7,
     "metadata": {},
     "output_type": "execute_result"
    }
   ],
   "source": [
    "estudantes_dict[\"Marcelo\"]"
   ]
  },
  {
   "cell_type": "code",
   "execution_count": 8,
   "id": "fd56ec17",
   "metadata": {},
   "outputs": [],
   "source": [
    "# Limpa o Dicionário\n",
    "estudantes_dict.clear()"
   ]
  },
  {
   "cell_type": "code",
   "execution_count": 9,
   "id": "4e717bc1",
   "metadata": {},
   "outputs": [
    {
     "data": {
      "text/plain": [
       "{}"
      ]
     },
     "execution_count": 9,
     "metadata": {},
     "output_type": "execute_result"
    }
   ],
   "source": [
    "estudantes_dict"
   ]
  },
  {
   "cell_type": "code",
   "execution_count": 10,
   "id": "57676ff4",
   "metadata": {},
   "outputs": [],
   "source": [
    "# Deleta o Dicionário\n",
    "del estudantes_dict"
   ]
  },
  {
   "cell_type": "code",
   "execution_count": 11,
   "id": "c6303974",
   "metadata": {},
   "outputs": [],
   "source": [
    "# Criando um novo Dicionário\n",
    "estudantes = {\"Pedro\":24, \"Ana\":22, \"Ronaldo\":26, \"Janaina\":25}"
   ]
  },
  {
   "cell_type": "code",
   "execution_count": 12,
   "id": "7ca4f9d2",
   "metadata": {},
   "outputs": [
    {
     "data": {
      "text/plain": [
       "4"
      ]
     },
     "execution_count": 12,
     "metadata": {},
     "output_type": "execute_result"
    }
   ],
   "source": [
    "# Exibe a quantidade de elementos no Dicionário\n",
    "len(estudantes)"
   ]
  },
  {
   "cell_type": "code",
   "execution_count": 14,
   "id": "75191ae3",
   "metadata": {},
   "outputs": [
    {
     "data": {
      "text/plain": [
       "dict_keys(['Pedro', 'Ana', 'Ronaldo', 'Janaina'])"
      ]
     },
     "execution_count": 14,
     "metadata": {},
     "output_type": "execute_result"
    }
   ],
   "source": [
    "# Exibe as chaves do Dicionário\n",
    "estudantes.keys()"
   ]
  },
  {
   "cell_type": "code",
   "execution_count": 15,
   "id": "fcaf3340",
   "metadata": {},
   "outputs": [
    {
     "data": {
      "text/plain": [
       "dict_values([24, 22, 26, 25])"
      ]
     },
     "execution_count": 15,
     "metadata": {},
     "output_type": "execute_result"
    }
   ],
   "source": [
    "# Exibe os valores do Dicionário\n",
    "estudantes.values()"
   ]
  },
  {
   "cell_type": "code",
   "execution_count": 16,
   "id": "7c096f41",
   "metadata": {},
   "outputs": [
    {
     "name": "stdout",
     "output_type": "stream",
     "text": [
      "{'Camila': 27, 'Adriana': 28, 'Roberta': 26}\n"
     ]
    }
   ],
   "source": [
    "# Criando outro Dicionário\n",
    "estudantes2 = {\"Camila\":27, \"Adriana\":28, \"Roberta\":26}\n",
    "print(estudantes2)"
   ]
  },
  {
   "cell_type": "code",
   "execution_count": 17,
   "id": "f339d01d",
   "metadata": {},
   "outputs": [
    {
     "name": "stdout",
     "output_type": "stream",
     "text": [
      "{'Pedro': 24, 'Ana': 22, 'Ronaldo': 26, 'Janaina': 25, 'Camila': 27, 'Adriana': 28, 'Roberta': 26}\n"
     ]
    }
   ],
   "source": [
    "# Atualiza o primeiro dicionário com o segundo e adiciona os objetos.\n",
    "estudantes.update(estudantes2)\n",
    "print(estudantes)"
   ]
  },
  {
   "cell_type": "code",
   "execution_count": 23,
   "id": "5ed6d044",
   "metadata": {},
   "outputs": [
    {
     "name": "stdout",
     "output_type": "stream",
     "text": [
      "{}\n"
     ]
    }
   ],
   "source": [
    "# Criando um dicionário vazio\n",
    "dict1 = {}\n",
    "print(dict1)"
   ]
  },
  {
   "cell_type": "code",
   "execution_count": 24,
   "id": "73a82367",
   "metadata": {},
   "outputs": [
    {
     "name": "stdout",
     "output_type": "stream",
     "text": [
      "{'chave_um': 2}\n"
     ]
    }
   ],
   "source": [
    "# Adiconando itens no dicionário\n",
    "dict1[\"chave_um\"]= 2\n",
    "print(dict1)"
   ]
  },
  {
   "cell_type": "code",
   "execution_count": 25,
   "id": "00ad61b3",
   "metadata": {},
   "outputs": [
    {
     "name": "stdout",
     "output_type": "stream",
     "text": [
      "{'chave_um': 2, 10: 5}\n"
     ]
    }
   ],
   "source": [
    "dict1[10]= 5\n",
    "print(dict1)"
   ]
  },
  {
   "cell_type": "code",
   "execution_count": 30,
   "id": "f8696256",
   "metadata": {},
   "outputs": [
    {
     "name": "stdout",
     "output_type": "stream",
     "text": [
      "{}\n"
     ]
    }
   ],
   "source": [
    "# Limpa o dicionário\n",
    "dict1 = {}\n",
    "print(dict1)"
   ]
  },
  {
   "cell_type": "code",
   "execution_count": 31,
   "id": "7daeec63",
   "metadata": {},
   "outputs": [
    {
     "name": "stdout",
     "output_type": "stream",
     "text": [
      "{'key1': 'Data Science', 'key2': 10, 'key3': 100}\n"
     ]
    }
   ],
   "source": [
    "dict1[\"key1\"] = \"Data Science\"\n",
    "dict1[\"key2\"] = 10\n",
    "dict1[\"key3\"] = 100\n",
    "\n",
    "print(dict1)"
   ]
  },
  {
   "cell_type": "code",
   "execution_count": 32,
   "id": "9451d4b3",
   "metadata": {},
   "outputs": [
    {
     "name": "stdout",
     "output_type": "stream",
     "text": [
      "Data Science\n"
     ]
    }
   ],
   "source": [
    "a = dict1[\"key1\"]\n",
    "print(a)"
   ]
  },
  {
   "cell_type": "code",
   "execution_count": 33,
   "id": "6ab31d4b",
   "metadata": {},
   "outputs": [
    {
     "name": "stdout",
     "output_type": "stream",
     "text": [
      "10\n"
     ]
    }
   ],
   "source": [
    "b = dict1[\"key2\"]\n",
    "print(b)"
   ]
  },
  {
   "cell_type": "code",
   "execution_count": 34,
   "id": "672c9e49",
   "metadata": {},
   "outputs": [
    {
     "name": "stdout",
     "output_type": "stream",
     "text": [
      "{'chave1': 1230, 'chave2': [22, 453, 73.4], 'chave3': ['picanha', 'fraldinha', 'alcatra']}\n"
     ]
    }
   ],
   "source": [
    "# Dicionários de listas\n",
    "dict2 = {'chave1':1230, 'chave2':[22, 453, 73.4], 'chave3':['picanha', 'fraldinha', 'alcatra']}\n",
    "print(dict2)"
   ]
  },
  {
   "cell_type": "code",
   "execution_count": 35,
   "id": "a636657a",
   "metadata": {},
   "outputs": [
    {
     "data": {
      "text/plain": [
       "[22, 453, 73.4]"
      ]
     },
     "execution_count": 35,
     "metadata": {},
     "output_type": "execute_result"
    }
   ],
   "source": [
    "dict2['chave2']"
   ]
  },
  {
   "cell_type": "code",
   "execution_count": 37,
   "id": "64c2c3c8",
   "metadata": {},
   "outputs": [
    {
     "data": {
      "text/plain": [
       "'PICANHA'"
      ]
     },
     "execution_count": 37,
     "metadata": {},
     "output_type": "execute_result"
    }
   ],
   "source": [
    "# Acessando um item da lista dentro do dicionário\n",
    "dict2['chave3'][0].upper()"
   ]
  },
  {
   "cell_type": "code",
   "execution_count": 39,
   "id": "92933431",
   "metadata": {},
   "outputs": [
    {
     "name": "stdout",
     "output_type": "stream",
     "text": [
      "20\n"
     ]
    }
   ],
   "source": [
    "# Operações com itens da lista, dentro do dicionário\n",
    "var1 = dict2['chave2'][0] - 2\n",
    "print(var1)"
   ]
  },
  {
   "cell_type": "code",
   "execution_count": 40,
   "id": "ce90bfcf",
   "metadata": {},
   "outputs": [
    {
     "name": "stdout",
     "output_type": "stream",
     "text": [
      "{'chave1': 1230, 'chave2': [20, 453, 73.4], 'chave3': ['picanha', 'fraldinha', 'alcatra']}\n"
     ]
    }
   ],
   "source": [
    "# Duas operações no mesmo comando, para atualizar um item da lista\n",
    "dict2['chave2'][0] -=2\n",
    "print(dict2)"
   ]
  },
  {
   "cell_type": "markdown",
   "id": "8fb0c518",
   "metadata": {},
   "source": [
    "### Criando Dicionários Aninhados"
   ]
  },
  {
   "cell_type": "code",
   "execution_count": 41,
   "id": "a7e17c79",
   "metadata": {},
   "outputs": [
    {
     "name": "stdout",
     "output_type": "stream",
     "text": [
      "{'key1': {'key2_aninhada': {'key3_aninhada': 'Dict aninhado em Python'}}}\n"
     ]
    }
   ],
   "source": [
    "# Criando dicionários aninhados\n",
    "dict_aninhado = {'key1': {'key2_aninhada':{'key3_aninhada': 'Dict aninhado em Python'}}}\n",
    "print(dict_aninhado)"
   ]
  },
  {
   "cell_type": "code",
   "execution_count": 42,
   "id": "faafcbc0",
   "metadata": {},
   "outputs": [
    {
     "data": {
      "text/plain": [
       "'Dict aninhado em Python'"
      ]
     },
     "execution_count": 42,
     "metadata": {},
     "output_type": "execute_result"
    }
   ],
   "source": [
    "dict_aninhado['key1']['key2_aninhada']['key3_aninhada']"
   ]
  },
  {
   "cell_type": "markdown",
   "id": "6a589ba6",
   "metadata": {},
   "source": [
    "## Fim!"
   ]
  },
  {
   "cell_type": "code",
   "execution_count": null,
   "id": "dfe8f8b3",
   "metadata": {},
   "outputs": [],
   "source": []
  }
 ],
 "metadata": {
  "kernelspec": {
   "display_name": "Python 3 (ipykernel)",
   "language": "python",
   "name": "python3"
  },
  "language_info": {
   "codemirror_mode": {
    "name": "ipython",
    "version": 3
   },
   "file_extension": ".py",
   "mimetype": "text/x-python",
   "name": "python",
   "nbconvert_exporter": "python",
   "pygments_lexer": "ipython3",
   "version": "3.9.12"
  }
 },
 "nbformat": 4,
 "nbformat_minor": 5
}
