{
 "cells": [
  {
   "cell_type": "markdown",
   "id": "97dac13c",
   "metadata": {},
   "source": [
    "# Data Science Academy\n",
    "### Fundamentos da Liguagem Python Para Análise de Dados e Data Science\n",
    "### Estruturas de Dados - Listas"
   ]
  },
  {
   "cell_type": "code",
   "execution_count": 1,
   "id": "3079ef24",
   "metadata": {},
   "outputs": [
    {
     "name": "stdout",
     "output_type": "stream",
     "text": [
      "Versão da linguagem Python usada Neste Jupyter Notebook: 3.9.12\n"
     ]
    }
   ],
   "source": [
    "# Versão da Linguagem Python\n",
    "from platform import python_version\n",
    "print(\"Versão da linguagem Python usada Neste Jupyter Notebook:\", python_version())"
   ]
  },
  {
   "cell_type": "markdown",
   "id": "8aea7aea",
   "metadata": {},
   "source": [
    "#### Lista é uma estrutura de dados para você armazenar diversos elementos, ela é mutável."
   ]
  },
  {
   "cell_type": "code",
   "execution_count": 5,
   "id": "e30240c6",
   "metadata": {},
   "outputs": [
    {
     "name": "stdout",
     "output_type": "stream",
     "text": [
      "['arroz', 'feijão', 'tomate', 'farinha']\n"
     ]
    }
   ],
   "source": [
    "# Criando uma lista com elementos independentes\n",
    "lista_1 = [\"arroz\", \"feijão\", \"tomate\", \"farinha\"]\n",
    "print(lista_1)"
   ]
  },
  {
   "cell_type": "code",
   "execution_count": 6,
   "id": "960d4f83",
   "metadata": {},
   "outputs": [
    {
     "name": "stdout",
     "output_type": "stream",
     "text": [
      "['arroz, feijão, tomate, farinha']\n"
     ]
    }
   ],
   "source": [
    "# Criando uma lista com elementos separados por vírgula\n",
    "lista_2 = [\"arroz, feijão, tomate, farinha\"]\n",
    "print(lista_2)"
   ]
  },
  {
   "cell_type": "code",
   "execution_count": 7,
   "id": "8f380066",
   "metadata": {},
   "outputs": [
    {
     "data": {
      "text/plain": [
       "list"
      ]
     },
     "execution_count": 7,
     "metadata": {},
     "output_type": "execute_result"
    }
   ],
   "source": [
    "type(lista_2)"
   ]
  },
  {
   "cell_type": "code",
   "execution_count": 8,
   "id": "c4903f24",
   "metadata": {},
   "outputs": [
    {
     "name": "stdout",
     "output_type": "stream",
     "text": [
      "[23, 100, 'Cientista de Dados']\n"
     ]
    }
   ],
   "source": [
    "lista_3 = [23, 100, \"Cientista de Dados\"]\n",
    "print(lista_3)"
   ]
  },
  {
   "cell_type": "code",
   "execution_count": 11,
   "id": "afc07ea8",
   "metadata": {},
   "outputs": [
    {
     "name": "stdout",
     "output_type": "stream",
     "text": [
      "23 100 Cientista de Dados\n"
     ]
    }
   ],
   "source": [
    "# Atribuindo cada valor da lista a uma variável\n",
    "item_1 = lista_3[0]\n",
    "item_2 = lista_3[1]\n",
    "item_3 = lista_3[2]\n",
    "print(item_1, item_2, item_3)"
   ]
  },
  {
   "cell_type": "markdown",
   "id": "98fcaac1",
   "metadata": {},
   "source": [
    "### Atualizando um item da lista"
   ]
  },
  {
   "cell_type": "code",
   "execution_count": 15,
   "id": "4b35bbc1",
   "metadata": {},
   "outputs": [
    {
     "data": {
      "text/plain": [
       "['arroz', 'feijão', 'tomate', 'farinha']"
      ]
     },
     "execution_count": 15,
     "metadata": {},
     "output_type": "execute_result"
    }
   ],
   "source": [
    "lista_1"
   ]
  },
  {
   "cell_type": "code",
   "execution_count": 16,
   "id": "020d0964",
   "metadata": {},
   "outputs": [
    {
     "data": {
      "text/plain": [
       "'tomate'"
      ]
     },
     "execution_count": 16,
     "metadata": {},
     "output_type": "execute_result"
    }
   ],
   "source": [
    "# Imprimindo um item da lista\n",
    "lista_1[2]"
   ]
  },
  {
   "cell_type": "code",
   "execution_count": 18,
   "id": "bcf0e82a",
   "metadata": {},
   "outputs": [],
   "source": [
    "# Atualizando um item da lista\n",
    "lista_1[2] = \"chocolate\""
   ]
  },
  {
   "cell_type": "code",
   "execution_count": 19,
   "id": "ac7e228a",
   "metadata": {},
   "outputs": [
    {
     "data": {
      "text/plain": [
       "['arroz', 'feijão', 'chocolate', 'farinha']"
      ]
     },
     "execution_count": 19,
     "metadata": {},
     "output_type": "execute_result"
    }
   ],
   "source": [
    "lista_1"
   ]
  },
  {
   "cell_type": "markdown",
   "id": "ab10e4f3",
   "metadata": {},
   "source": [
    "### Deletando um item da Lista\n",
    "Não é possível deletar um item que não existe"
   ]
  },
  {
   "cell_type": "code",
   "execution_count": 20,
   "id": "e9e1d763",
   "metadata": {},
   "outputs": [
    {
     "ename": "IndexError",
     "evalue": "list assignment index out of range",
     "output_type": "error",
     "traceback": [
      "\u001b[1;31m---------------------------------------------------------------------------\u001b[0m",
      "\u001b[1;31mIndexError\u001b[0m                                Traceback (most recent call last)",
      "Input \u001b[1;32mIn [20]\u001b[0m, in \u001b[0;36m<cell line: 1>\u001b[1;34m()\u001b[0m\n\u001b[1;32m----> 1\u001b[0m \u001b[38;5;28;01mdel\u001b[39;00m lista_1[\u001b[38;5;241m4\u001b[39m]\n",
      "\u001b[1;31mIndexError\u001b[0m: list assignment index out of range"
     ]
    }
   ],
   "source": [
    "del lista_1[4]"
   ]
  },
  {
   "cell_type": "code",
   "execution_count": 21,
   "id": "3dfb7ac2",
   "metadata": {},
   "outputs": [],
   "source": [
    "# Deletando um indice específico da lista\n",
    "del lista_1[3]"
   ]
  },
  {
   "cell_type": "code",
   "execution_count": 22,
   "id": "50339747",
   "metadata": {},
   "outputs": [
    {
     "data": {
      "text/plain": [
       "['arroz', 'feijão', 'chocolate']"
      ]
     },
     "execution_count": 22,
     "metadata": {},
     "output_type": "execute_result"
    }
   ],
   "source": [
    "lista_1"
   ]
  },
  {
   "cell_type": "markdown",
   "id": "fbf01546",
   "metadata": {},
   "source": [
    "### Listas de Listas (Listas Aninhadas)\n",
    "Listas de listas são matrizes em Python."
   ]
  },
  {
   "cell_type": "code",
   "execution_count": 24,
   "id": "780a2fa2",
   "metadata": {},
   "outputs": [
    {
     "name": "stdout",
     "output_type": "stream",
     "text": [
      "[[1, 2, 3], [10, 15, 14], [10, 1, 8.7, 2.3]]\n"
     ]
    }
   ],
   "source": [
    "# Criando uma lista de listas\n",
    "listas = [[1,2,3], [10,15,14], [10,1,8.7,2.3]]\n",
    "print(listas)"
   ]
  },
  {
   "cell_type": "code",
   "execution_count": 25,
   "id": "cf22bc0c",
   "metadata": {},
   "outputs": [
    {
     "name": "stdout",
     "output_type": "stream",
     "text": [
      "[1, 2, 3]\n"
     ]
    }
   ],
   "source": [
    "# Atribuindo um item da lista a uma variável\n",
    "a = listas[0]\n",
    "print(a)"
   ]
  },
  {
   "cell_type": "code",
   "execution_count": 26,
   "id": "bf82ea25",
   "metadata": {},
   "outputs": [
    {
     "name": "stdout",
     "output_type": "stream",
     "text": [
      "1\n"
     ]
    }
   ],
   "source": [
    "b = a[0]\n",
    "print(b)"
   ]
  },
  {
   "cell_type": "code",
   "execution_count": 27,
   "id": "a024d6f1",
   "metadata": {},
   "outputs": [
    {
     "name": "stdout",
     "output_type": "stream",
     "text": [
      "[10, 15, 14]\n"
     ]
    }
   ],
   "source": [
    "list1 = listas[1]\n",
    "print(list1)"
   ]
  },
  {
   "cell_type": "markdown",
   "id": "47bbb5b8",
   "metadata": {},
   "source": [
    "### Operações com Listas"
   ]
  },
  {
   "cell_type": "code",
   "execution_count": 28,
   "id": "4310a241",
   "metadata": {},
   "outputs": [
    {
     "name": "stdout",
     "output_type": "stream",
     "text": [
      "[[1, 2, 3], [10, 15, 14], [10, 1, 8.7, 2.3]]\n"
     ]
    }
   ],
   "source": [
    "# Criando uma lista de listas\n",
    "listas = [[1,2,3], [10,15,14], [10,1,8.7,2.3]]\n",
    "print(listas)"
   ]
  },
  {
   "cell_type": "code",
   "execution_count": 30,
   "id": "b5702214",
   "metadata": {},
   "outputs": [
    {
     "name": "stdout",
     "output_type": "stream",
     "text": [
      "1\n"
     ]
    }
   ],
   "source": [
    "# Atribuindo a uma variável o primeiro valor da primeira lista.\n",
    "a = listas[0][0]\n",
    "print(a)"
   ]
  },
  {
   "cell_type": "code",
   "execution_count": 32,
   "id": "eb866395",
   "metadata": {},
   "outputs": [
    {
     "name": "stdout",
     "output_type": "stream",
     "text": [
      "14\n"
     ]
    }
   ],
   "source": [
    "b = listas[1][2]\n",
    "print(b)"
   ]
  },
  {
   "cell_type": "code",
   "execution_count": 33,
   "id": "d8b4e460",
   "metadata": {},
   "outputs": [
    {
     "name": "stdout",
     "output_type": "stream",
     "text": [
      "13\n"
     ]
    }
   ],
   "source": [
    "c = listas[0][2] + 10\n",
    "print(c)"
   ]
  },
  {
   "cell_type": "code",
   "execution_count": 34,
   "id": "b79d1b66",
   "metadata": {},
   "outputs": [
    {
     "name": "stdout",
     "output_type": "stream",
     "text": [
      "100\n"
     ]
    }
   ],
   "source": [
    "d = 10\n",
    "e = d * listas[2][0]\n",
    "print(e)"
   ]
  },
  {
   "cell_type": "markdown",
   "id": "1478e5c6",
   "metadata": {},
   "source": [
    "### Concatenando Listas"
   ]
  },
  {
   "cell_type": "code",
   "execution_count": 35,
   "id": "000d011a",
   "metadata": {},
   "outputs": [
    {
     "name": "stdout",
     "output_type": "stream",
     "text": [
      "[34, 32, 56, 21, 90, 51]\n"
     ]
    }
   ],
   "source": [
    "lista_s1 = [34, 32, 56]\n",
    "lista_s2 = [21, 90, 51]\n",
    "# Concatenando listas\n",
    "lista_total = lista_s1 + lista_s2\n",
    "print(lista_total)"
   ]
  },
  {
   "cell_type": "markdown",
   "id": "12e4105f",
   "metadata": {},
   "source": [
    "### Operador in"
   ]
  },
  {
   "cell_type": "code",
   "execution_count": 39,
   "id": "2db362b5",
   "metadata": {},
   "outputs": [
    {
     "name": "stdout",
     "output_type": "stream",
     "text": [
      "False\n"
     ]
    }
   ],
   "source": [
    "# Criando uma lista\n",
    "lista_op = [100, 2, -5, 3.4]\n",
    "# Verificando se o valor 10 pertence a lista\n",
    "print(10 in lista_op)"
   ]
  },
  {
   "cell_type": "code",
   "execution_count": 40,
   "id": "8adfa646",
   "metadata": {},
   "outputs": [
    {
     "name": "stdout",
     "output_type": "stream",
     "text": [
      "True\n"
     ]
    }
   ],
   "source": [
    "# Verificando se o valor 100 pertence a lista\n",
    "print(100 in lista_op)"
   ]
  },
  {
   "cell_type": "markdown",
   "id": "5cc4d48c",
   "metadata": {},
   "source": [
    "### Funções Built-in"
   ]
  },
  {
   "cell_type": "code",
   "execution_count": 41,
   "id": "da60fd8d",
   "metadata": {},
   "outputs": [],
   "source": [
    "# Criando uma lista\n",
    "lista_numeros = [10, 2, 50, -3.4]"
   ]
  },
  {
   "cell_type": "code",
   "execution_count": 43,
   "id": "715aee37",
   "metadata": {},
   "outputs": [
    {
     "data": {
      "text/plain": [
       "4"
      ]
     },
     "execution_count": 43,
     "metadata": {},
     "output_type": "execute_result"
    }
   ],
   "source": [
    "# Função len() retorna o comprimento da lista\n",
    "len(lista_numeros)"
   ]
  },
  {
   "cell_type": "code",
   "execution_count": 44,
   "id": "56f3efc0",
   "metadata": {},
   "outputs": [
    {
     "data": {
      "text/plain": [
       "50"
      ]
     },
     "execution_count": 44,
     "metadata": {},
     "output_type": "execute_result"
    }
   ],
   "source": [
    "# Função max() retorna o valor máximo da lista\n",
    "max(lista_numeros)"
   ]
  },
  {
   "cell_type": "code",
   "execution_count": 45,
   "id": "7cd27dca",
   "metadata": {},
   "outputs": [
    {
     "data": {
      "text/plain": [
       "-3.4"
      ]
     },
     "execution_count": 45,
     "metadata": {},
     "output_type": "execute_result"
    }
   ],
   "source": [
    "# Função min() retorna o valor mínimo da lista\n",
    "min(lista_numeros)"
   ]
  },
  {
   "cell_type": "code",
   "execution_count": 46,
   "id": "e3b2eec8",
   "metadata": {},
   "outputs": [],
   "source": [
    "# Criando uma lista\n",
    "lista_formacoes = [\"Analista de Dados\", \"Cientista de Dados\", \"Engenheiro de Dados\"]"
   ]
  },
  {
   "cell_type": "code",
   "execution_count": 47,
   "id": "b042bc55",
   "metadata": {},
   "outputs": [],
   "source": [
    "# Adicinando um item a lista\n",
    "lista_formacoes.append(\"Engenheiro de IA\")"
   ]
  },
  {
   "cell_type": "code",
   "execution_count": 48,
   "id": "1af0854d",
   "metadata": {},
   "outputs": [
    {
     "data": {
      "text/plain": [
       "['Analista de Dados',\n",
       " 'Cientista de Dados',\n",
       " 'Engenheiro de Dados',\n",
       " 'Engenheiro de IA']"
      ]
     },
     "execution_count": 48,
     "metadata": {},
     "output_type": "execute_result"
    }
   ],
   "source": [
    "lista_formacoes"
   ]
  },
  {
   "cell_type": "code",
   "execution_count": 49,
   "id": "f77323ca",
   "metadata": {},
   "outputs": [],
   "source": [
    "lista_formacoes.append(\"Engenheiro de IA\")"
   ]
  },
  {
   "cell_type": "code",
   "execution_count": 50,
   "id": "74dfbb09",
   "metadata": {},
   "outputs": [
    {
     "data": {
      "text/plain": [
       "['Analista de Dados',\n",
       " 'Cientista de Dados',\n",
       " 'Engenheiro de Dados',\n",
       " 'Engenheiro de IA',\n",
       " 'Engenheiro de IA']"
      ]
     },
     "execution_count": 50,
     "metadata": {},
     "output_type": "execute_result"
    }
   ],
   "source": [
    "lista_formacoes"
   ]
  },
  {
   "cell_type": "code",
   "execution_count": 51,
   "id": "d60d89ab",
   "metadata": {},
   "outputs": [
    {
     "data": {
      "text/plain": [
       "2"
      ]
     },
     "execution_count": 51,
     "metadata": {},
     "output_type": "execute_result"
    }
   ],
   "source": [
    "lista_formacoes.count(\"Engenheiro de IA\")"
   ]
  },
  {
   "cell_type": "code",
   "execution_count": 52,
   "id": "beceab71",
   "metadata": {},
   "outputs": [],
   "source": [
    "# Criando uma lista vazia\n",
    "lista_vazia = []"
   ]
  },
  {
   "cell_type": "code",
   "execution_count": 53,
   "id": "d372a3e7",
   "metadata": {},
   "outputs": [
    {
     "data": {
      "text/plain": [
       "[]"
      ]
     },
     "execution_count": 53,
     "metadata": {},
     "output_type": "execute_result"
    }
   ],
   "source": [
    "lista_vazia"
   ]
  },
  {
   "cell_type": "code",
   "execution_count": 54,
   "id": "50dfe45f",
   "metadata": {},
   "outputs": [
    {
     "data": {
      "text/plain": [
       "list"
      ]
     },
     "execution_count": 54,
     "metadata": {},
     "output_type": "execute_result"
    }
   ],
   "source": [
    "type(lista_vazia)"
   ]
  },
  {
   "cell_type": "code",
   "execution_count": 55,
   "id": "4ba6340a",
   "metadata": {},
   "outputs": [
    {
     "name": "stdout",
     "output_type": "stream",
     "text": [
      "[10]\n"
     ]
    }
   ],
   "source": [
    "lista_vazia.append(10)\n",
    "print(lista_vazia)"
   ]
  },
  {
   "cell_type": "code",
   "execution_count": 56,
   "id": "76237837",
   "metadata": {},
   "outputs": [
    {
     "name": "stdout",
     "output_type": "stream",
     "text": [
      "[10, 50]\n"
     ]
    }
   ],
   "source": [
    "lista_vazia.append(50)\n",
    "print(lista_vazia)"
   ]
  },
  {
   "cell_type": "code",
   "execution_count": 58,
   "id": "ad703519",
   "metadata": {},
   "outputs": [],
   "source": [
    "old_list = [1, 2, 5, 10]\n",
    "new_list= []\n",
    "\n",
    "# Copiando os itens de uma lista para outra\n",
    "for item in old_list:\n",
    "    new_list.append(item)"
   ]
  },
  {
   "cell_type": "code",
   "execution_count": 59,
   "id": "dbbe8d7a",
   "metadata": {},
   "outputs": [
    {
     "data": {
      "text/plain": [
       "[1, 2, 5, 10]"
      ]
     },
     "execution_count": 59,
     "metadata": {},
     "output_type": "execute_result"
    }
   ],
   "source": [
    "new_list"
   ]
  },
  {
   "cell_type": "code",
   "execution_count": 61,
   "id": "d1ff6de8",
   "metadata": {},
   "outputs": [
    {
     "name": "stdout",
     "output_type": "stream",
     "text": [
      "['Belém', 'São Luis', 'Manaus', 'Rio de Janeiro', 'Florianópolis']\n"
     ]
    }
   ],
   "source": [
    "cidades = [\"Belém\", \"São Luis\", \"Manaus\"]\n",
    "cidades.extend([\"Rio de Janeiro\", \"Florianópolis\"])\n",
    "print(cidades)"
   ]
  },
  {
   "cell_type": "code",
   "execution_count": 63,
   "id": "d0802117",
   "metadata": {},
   "outputs": [
    {
     "data": {
      "text/plain": [
       "2"
      ]
     },
     "execution_count": 63,
     "metadata": {},
     "output_type": "execute_result"
    }
   ],
   "source": [
    "cidades.index(\"Manaus\")"
   ]
  },
  {
   "cell_type": "code",
   "execution_count": 64,
   "id": "da5770dc",
   "metadata": {},
   "outputs": [
    {
     "name": "stdout",
     "output_type": "stream",
     "text": [
      "['Belém', 'São Luis', 110, 'Manaus', 'Rio de Janeiro', 'Florianópolis']\n"
     ]
    }
   ],
   "source": [
    "cidades.insert(2, 110)\n",
    "print(cidades)"
   ]
  },
  {
   "cell_type": "code",
   "execution_count": 65,
   "id": "9d55a14d",
   "metadata": {},
   "outputs": [
    {
     "name": "stdout",
     "output_type": "stream",
     "text": [
      "['Belém', 'São Luis', 'Manaus', 'Rio de Janeiro', 'Florianópolis']\n"
     ]
    }
   ],
   "source": [
    "# Remove um item da lista\n",
    "cidades.remove(110)\n",
    "print(cidades)"
   ]
  },
  {
   "cell_type": "code",
   "execution_count": 67,
   "id": "ee973b10",
   "metadata": {},
   "outputs": [
    {
     "name": "stdout",
     "output_type": "stream",
     "text": [
      "['Belém', 'São Luis', 'Manaus', 'Rio de Janeiro', 'Florianópolis']\n"
     ]
    }
   ],
   "source": [
    "# Reverse a lista\n",
    "cidades.reverse()\n",
    "print(cidades)"
   ]
  },
  {
   "cell_type": "code",
   "execution_count": 68,
   "id": "0d86bd1b",
   "metadata": {},
   "outputs": [
    {
     "name": "stdout",
     "output_type": "stream",
     "text": [
      "[2, 4, 5, 8, 9]\n"
     ]
    }
   ],
   "source": [
    "x = [5, 8, 2, 9, 4]\n",
    "x.sort()\n",
    "print(x)"
   ]
  },
  {
   "cell_type": "markdown",
   "id": "9c2cbec1",
   "metadata": {},
   "source": [
    "## Fim!"
   ]
  },
  {
   "cell_type": "code",
   "execution_count": null,
   "id": "adc0256c",
   "metadata": {},
   "outputs": [],
   "source": []
  }
 ],
 "metadata": {
  "kernelspec": {
   "display_name": "Python 3 (ipykernel)",
   "language": "python",
   "name": "python3"
  },
  "language_info": {
   "codemirror_mode": {
    "name": "ipython",
    "version": 3
   },
   "file_extension": ".py",
   "mimetype": "text/x-python",
   "name": "python",
   "nbconvert_exporter": "python",
   "pygments_lexer": "ipython3",
   "version": "3.9.12"
  }
 },
 "nbformat": 4,
 "nbformat_minor": 5
}
