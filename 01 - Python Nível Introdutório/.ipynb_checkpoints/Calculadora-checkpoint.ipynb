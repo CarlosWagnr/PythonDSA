{
 "cells": [
  {
   "cell_type": "markdown",
   "id": "9cc7b351",
   "metadata": {},
   "source": [
    "## Calculadora"
   ]
  },
  {
   "cell_type": "code",
   "execution_count": 37,
   "id": "a1dc7e13",
   "metadata": {},
   "outputs": [
    {
     "name": "stdout",
     "output_type": "stream",
     "text": [
      "******************** Calculadora em Python *********************\n",
      "\n",
      "Selecione o número da operação desejada:\n",
      "\n",
      "1 - Soma\n",
      "2 - Subtração\n",
      "3 - Multiplicação\n",
      "4 - Divisão\n",
      "\n",
      "Digite a opção (1/2/3/4): 1\n",
      "\n",
      "Digite o primeiro número: 23\n",
      "\n",
      "Digite o segundo número: 41\n",
      "\n",
      "23 + 41 = 64\n"
     ]
    }
   ],
   "source": [
    "# Calculadora em Python\n",
    "\n",
    "# Desenvolva uma calculadora em Python com tudo que você aprendeu nos capitulos até aqui no curso.\n",
    "# A solução será apresentada no próximo capítulo.\n",
    "from time import sleep\n",
    "print(\"{:*^64}\".format(\" Calculadora em Python \"))\n",
    "\n",
    "print(\"\"\"\n",
    "Selecione o número da operação desejada:\n",
    "\n",
    "1 - Soma\n",
    "2 - Subtração\n",
    "3 - Multiplicação\n",
    "4 - Divisão\n",
    "\"\"\")\n",
    "sleep(2)\n",
    "\n",
    "# Funções\n",
    "def soma(x, y):\n",
    "    print(f\"\\n{x} + {y} = {x + y}\")\n",
    "\n",
    "def subtracao(x, y):\n",
    "    print(f\"\\n{x} - {y} = {x - y}\")\n",
    "\n",
    "def multiplicacao(x, y):\n",
    "    print(f\"\\n{x} * {y} = {x * y}\")\n",
    "\n",
    "def divisao(x, y):\n",
    "    if x > y:\n",
    "        print(f\"\\n{x} / {y} = {x / y}\")\n",
    "    else:\n",
    "        print(\"Divisão Inválida\")\n",
    "\n",
    "# Condição para operações\n",
    "lista_opcoes = [1, 2, 3, 4]\n",
    "opcao = int(input(\"Digite a opção (1/2/3/4): \"))\n",
    "if opcao in lista_opcoes:\n",
    "    num1 = int(input(\"\\nDigite o primeiro número: \"))\n",
    "    num2 = int(input(\"\\nDigite o segundo número: \"))\n",
    "    \n",
    "    # Condição para chamada das funções\n",
    "    if opcao == 1:\n",
    "        soma(num1, num2)\n",
    "    elif opcao == 2:\n",
    "        subtracao(num1, num2)\n",
    "    elif opcao == 3:\n",
    "        multiplicacao(num1, num2)\n",
    "    elif opcao == 4:\n",
    "        divisao(num1, num2)\n",
    "else:\n",
    "    print(\"Opção Inválida!\")\n"
   ]
  },
  {
   "cell_type": "code",
   "execution_count": null,
   "id": "a9bc303e",
   "metadata": {},
   "outputs": [],
   "source": []
  }
 ],
 "metadata": {
  "kernelspec": {
   "display_name": "Python 3 (ipykernel)",
   "language": "python",
   "name": "python3"
  },
  "language_info": {
   "codemirror_mode": {
    "name": "ipython",
    "version": 3
   },
   "file_extension": ".py",
   "mimetype": "text/x-python",
   "name": "python",
   "nbconvert_exporter": "python",
   "pygments_lexer": "ipython3",
   "version": "3.9.12"
  }
 },
 "nbformat": 4,
 "nbformat_minor": 5
}
