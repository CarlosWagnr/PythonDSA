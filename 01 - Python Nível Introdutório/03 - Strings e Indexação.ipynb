{
 "cells": [
  {
   "cell_type": "markdown",
   "id": "644e39ed",
   "metadata": {},
   "source": [
    "# Data Science Academy\n",
    "### Fundamentos da Liguagem Python Para Análise de Dados e Data Science\n",
    "### Números e Operações Matemáticas"
   ]
  },
  {
   "cell_type": "code",
   "execution_count": 2,
   "id": "497e8ef0",
   "metadata": {},
   "outputs": [
    {
     "name": "stdout",
     "output_type": "stream",
     "text": [
      "Versão da linguagem Python usada Neste Jupyter Notebook: 3.9.12\n"
     ]
    }
   ],
   "source": [
    "# Versão da Linguagem Python\n",
    "from platform import python_version\n",
    "print(\"Versão da linguagem Python usada Neste Jupyter Notebook:\", python_version())"
   ]
  },
  {
   "cell_type": "markdown",
   "id": "6bf79b8f",
   "metadata": {},
   "source": [
    "## Criando uma string\n",
    "Para criar uma string em Pythonpode usar aspas simples ou duplas."
   ]
  },
  {
   "cell_type": "code",
   "execution_count": 3,
   "id": "7aca1e6d",
   "metadata": {},
   "outputs": [
    {
     "data": {
      "text/plain": [
       "'Criando uma string em \"Python\"'"
      ]
     },
     "execution_count": 3,
     "metadata": {},
     "output_type": "execute_result"
    }
   ],
   "source": [
    "# Podemos usar aspas simples ou duplas\n",
    "'Criando uma string em \"Python\"'"
   ]
  },
  {
   "cell_type": "markdown",
   "id": "46308a19",
   "metadata": {},
   "source": [
    "## Imprimindo uma String"
   ]
  },
  {
   "cell_type": "code",
   "execution_count": 4,
   "id": "261d2aee",
   "metadata": {},
   "outputs": [
    {
     "name": "stdout",
     "output_type": "stream",
     "text": [
      "Testando Strings em Python.\n"
     ]
    }
   ],
   "source": [
    "print('Testando Strings em Python.')"
   ]
  },
  {
   "cell_type": "code",
   "execution_count": 5,
   "id": "47470d3f",
   "metadata": {},
   "outputs": [
    {
     "name": "stdout",
     "output_type": "stream",
     "text": [
      "Testando \n",
      " Strings \n",
      " em \n",
      " Python.\n"
     ]
    }
   ],
   "source": [
    "print('Testando \\n Strings \\n em \\n Python.')"
   ]
  },
  {
   "cell_type": "code",
   "execution_count": 6,
   "id": "e493fab0",
   "metadata": {},
   "outputs": [
    {
     "name": "stdout",
     "output_type": "stream",
     "text": [
      "\n",
      "    Python\n",
      "    SQL\n",
      "    Spark\n",
      "    Cloud\n",
      "\n"
     ]
    }
   ],
   "source": [
    "# Imprimindo strings com formatação definida.\n",
    "print(\"\"\"\n",
    "    Python\n",
    "    SQL\n",
    "    Spark\n",
    "    Cloud\n",
    "\"\"\")"
   ]
  },
  {
   "cell_type": "markdown",
   "id": "1d1a4eea",
   "metadata": {},
   "source": [
    "## Indexando Strings"
   ]
  },
  {
   "cell_type": "code",
   "execution_count": 7,
   "id": "eaf2e510",
   "metadata": {},
   "outputs": [
    {
     "name": "stdout",
     "output_type": "stream",
     "text": [
      "Data Science Academy\n"
     ]
    }
   ],
   "source": [
    "# Atribuindo uma string\n",
    "s = 'Data Science Academy'\n",
    "print(s)"
   ]
  },
  {
   "cell_type": "markdown",
   "id": "00bc271c",
   "metadata": {},
   "source": [
    "#### Indexação em Python começa por zero."
   ]
  },
  {
   "cell_type": "code",
   "execution_count": 8,
   "id": "eb953690",
   "metadata": {},
   "outputs": [
    {
     "data": {
      "text/plain": [
       "'D'"
      ]
     },
     "execution_count": 8,
     "metadata": {},
     "output_type": "execute_result"
    }
   ],
   "source": [
    "# Primeiro elemento da string\n",
    "s[0]"
   ]
  },
  {
   "cell_type": "code",
   "execution_count": 9,
   "id": "c26c6662",
   "metadata": {},
   "outputs": [
    {
     "data": {
      "text/plain": [
       "'a'"
      ]
     },
     "execution_count": 9,
     "metadata": {},
     "output_type": "execute_result"
    }
   ],
   "source": [
    "s[1]"
   ]
  },
  {
   "cell_type": "markdown",
   "id": "abca8b22",
   "metadata": {},
   "source": [
    "#### Podemos usar um : para executar um slicing que faz a leitura de tudo até um ponto designado."
   ]
  },
  {
   "cell_type": "code",
   "execution_count": 10,
   "id": "e67facd3",
   "metadata": {},
   "outputs": [
    {
     "data": {
      "text/plain": [
       "'ata Science Academy'"
      ]
     },
     "execution_count": 10,
     "metadata": {},
     "output_type": "execute_result"
    }
   ],
   "source": [
    "# Retorna todos os elementos da string, começando pela posição até o fim da string\n",
    "s[1:]"
   ]
  },
  {
   "cell_type": "code",
   "execution_count": 11,
   "id": "d36216ec",
   "metadata": {},
   "outputs": [
    {
     "data": {
      "text/plain": [
       "'Dat'"
      ]
     },
     "execution_count": 11,
     "metadata": {},
     "output_type": "execute_result"
    }
   ],
   "source": [
    "# Retorna tudo até a posição 3\n",
    "s[:3]"
   ]
  },
  {
   "cell_type": "code",
   "execution_count": 12,
   "id": "2f4d4731",
   "metadata": {},
   "outputs": [
    {
     "data": {
      "text/plain": [
       "'y'"
      ]
     },
     "execution_count": 12,
     "metadata": {},
     "output_type": "execute_result"
    }
   ],
   "source": [
    "# Nós podemos usar a indexação negativa e ler de trás para frente\n",
    "s[-1]"
   ]
  },
  {
   "cell_type": "code",
   "execution_count": 13,
   "id": "b9d7b79f",
   "metadata": {},
   "outputs": [
    {
     "data": {
      "text/plain": [
       "'Data Science Academ'"
      ]
     },
     "execution_count": 13,
     "metadata": {},
     "output_type": "execute_result"
    }
   ],
   "source": [
    "# Retorna tudo exceto a última letra.\n",
    "s[:-1]"
   ]
  },
  {
   "cell_type": "markdown",
   "id": "c54fa906",
   "metadata": {},
   "source": [
    "Podemos usar a notação de indicee fatiar a string em pedaços específicos (o padrão é 1).\n",
    "Por exemplo, podmeos usar dois pontos duas vezes em uma linha, e em seguida, um número que especifique a frequência para retornar elementos"
   ]
  },
  {
   "cell_type": "code",
   "execution_count": 14,
   "id": "ce713b28",
   "metadata": {},
   "outputs": [
    {
     "data": {
      "text/plain": [
       "'Data Science Academy'"
      ]
     },
     "execution_count": 14,
     "metadata": {},
     "output_type": "execute_result"
    }
   ],
   "source": [
    "s[::1]"
   ]
  },
  {
   "cell_type": "code",
   "execution_count": 15,
   "id": "ae297531",
   "metadata": {},
   "outputs": [
    {
     "data": {
      "text/plain": [
       "'Dt cec cdm'"
      ]
     },
     "execution_count": 15,
     "metadata": {},
     "output_type": "execute_result"
    }
   ],
   "source": [
    "# Retorna saltando de dois em dois caracteres\n",
    "s[::2]"
   ]
  },
  {
   "cell_type": "code",
   "execution_count": 16,
   "id": "35cf6b0f",
   "metadata": {},
   "outputs": [
    {
     "data": {
      "text/plain": [
       "'ymedacA ecneicS ataD'"
      ]
     },
     "execution_count": 16,
     "metadata": {},
     "output_type": "execute_result"
    }
   ],
   "source": [
    "# Retorna os caracteres invertidos\n",
    "s[::-1]"
   ]
  },
  {
   "cell_type": "markdown",
   "id": "e9196947",
   "metadata": {},
   "source": [
    "### Propriedades de Strings"
   ]
  },
  {
   "cell_type": "code",
   "execution_count": 17,
   "id": "c4b87965",
   "metadata": {},
   "outputs": [
    {
     "data": {
      "text/plain": [
       "'Data Science Academy'"
      ]
     },
     "execution_count": 17,
     "metadata": {},
     "output_type": "execute_result"
    }
   ],
   "source": [
    "s"
   ]
  },
  {
   "cell_type": "code",
   "execution_count": 18,
   "id": "fa484a60",
   "metadata": {},
   "outputs": [
    {
     "ename": "TypeError",
     "evalue": "'str' object does not support item assignment",
     "output_type": "error",
     "traceback": [
      "\u001b[1;31m---------------------------------------------------------------------------\u001b[0m",
      "\u001b[1;31mTypeError\u001b[0m                                 Traceback (most recent call last)",
      "Input \u001b[1;32mIn [18]\u001b[0m, in \u001b[0;36m<cell line: 2>\u001b[1;34m()\u001b[0m\n\u001b[0;32m      1\u001b[0m \u001b[38;5;66;03m# Alterando um caractere (não é possível alterar um caractere da string)\u001b[39;00m\n\u001b[1;32m----> 2\u001b[0m s[\u001b[38;5;241m0\u001b[39m] \u001b[38;5;241m=\u001b[39m \u001b[38;5;124m'\u001b[39m\u001b[38;5;124mx\u001b[39m\u001b[38;5;124m'\u001b[39m\n",
      "\u001b[1;31mTypeError\u001b[0m: 'str' object does not support item assignment"
     ]
    }
   ],
   "source": [
    "# Alterando um caractere (não é possível alterar um caractere da string).\n",
    "s[0] = 'x'"
   ]
  },
  {
   "cell_type": "code",
   "execution_count": 19,
   "id": "8557c056",
   "metadata": {},
   "outputs": [
    {
     "data": {
      "text/plain": [
       "'Data Science Academy é a melhor maneira de estar se preparando para o mercado de trabalho em Ciência de Dados.'"
      ]
     },
     "execution_count": 19,
     "metadata": {},
     "output_type": "execute_result"
    }
   ],
   "source": [
    "# Concatenando strings\n",
    "s + ' é a melhor maneira de estar se preparando para o mercado de trabalho em Ciência de Dados.'"
   ]
  },
  {
   "cell_type": "code",
   "execution_count": 20,
   "id": "d89cf15a",
   "metadata": {},
   "outputs": [],
   "source": [
    "s = s + ' é a melhor maneira de estar se preparando para o mercado de trabalho em Ciência de Dados.'"
   ]
  },
  {
   "cell_type": "code",
   "execution_count": 21,
   "id": "072e0dbf",
   "metadata": {},
   "outputs": [
    {
     "name": "stdout",
     "output_type": "stream",
     "text": [
      "Data Science Academy é a melhor maneira de estar se preparando para o mercado de trabalho em Ciência de Dados.\n"
     ]
    }
   ],
   "source": [
    "print(s)"
   ]
  },
  {
   "cell_type": "code",
   "execution_count": 22,
   "id": "d7425531",
   "metadata": {},
   "outputs": [
    {
     "name": "stdout",
     "output_type": "stream",
     "text": [
      "www\n"
     ]
    }
   ],
   "source": [
    "# Podemos usar o símbolod e multiplicação para criar repetições!\n",
    "letra = 'w'\n",
    "print(letra * 3)"
   ]
  },
  {
   "cell_type": "markdown",
   "id": "1b4079cd",
   "metadata": {},
   "source": [
    "### Funções Built-in de Strings"
   ]
  },
  {
   "cell_type": "code",
   "execution_count": 23,
   "id": "b5b59532",
   "metadata": {},
   "outputs": [
    {
     "data": {
      "text/plain": [
       "'Data Science Academy é a melhor maneira de estar se preparando para o mercado de trabalho em Ciência de Dados.'"
      ]
     },
     "execution_count": 23,
     "metadata": {},
     "output_type": "execute_result"
    }
   ],
   "source": [
    "s"
   ]
  },
  {
   "cell_type": "code",
   "execution_count": 25,
   "id": "7dc56629",
   "metadata": {},
   "outputs": [
    {
     "data": {
      "text/plain": [
       "'DATA SCIENCE ACADEMY É A MELHOR MANEIRA DE ESTAR SE PREPARANDO PARA O MERCADO DE TRABALHO EM CIÊNCIA DE DADOS.'"
      ]
     },
     "execution_count": 25,
     "metadata": {},
     "output_type": "execute_result"
    }
   ],
   "source": [
    "# Upper case\n",
    "s.upper()"
   ]
  },
  {
   "cell_type": "code",
   "execution_count": 26,
   "id": "fd36fa10",
   "metadata": {},
   "outputs": [
    {
     "data": {
      "text/plain": [
       "'data science academy é a melhor maneira de estar se preparando para o mercado de trabalho em ciência de dados.'"
      ]
     },
     "execution_count": 26,
     "metadata": {},
     "output_type": "execute_result"
    }
   ],
   "source": [
    "# Lower case\n",
    "s.lower()"
   ]
  },
  {
   "cell_type": "code",
   "execution_count": 27,
   "id": "d4a7dccc",
   "metadata": {},
   "outputs": [
    {
     "data": {
      "text/plain": [
       "['Data',\n",
       " 'Science',\n",
       " 'Academy',\n",
       " 'é',\n",
       " 'a',\n",
       " 'melhor',\n",
       " 'maneira',\n",
       " 'de',\n",
       " 'estar',\n",
       " 'se',\n",
       " 'preparando',\n",
       " 'para',\n",
       " 'o',\n",
       " 'mercado',\n",
       " 'de',\n",
       " 'trabalho',\n",
       " 'em',\n",
       " 'Ciência',\n",
       " 'de',\n",
       " 'Dados.']"
      ]
     },
     "execution_count": 27,
     "metadata": {},
     "output_type": "execute_result"
    }
   ],
   "source": [
    "# Dividir uma string por espaços em branco (padrão)\n",
    "s.split()"
   ]
  },
  {
   "cell_type": "code",
   "execution_count": 29,
   "id": "3b3fc18e",
   "metadata": {},
   "outputs": [
    {
     "data": {
      "text/plain": [
       "['Data Science Academ',\n",
       " ' é a melhor maneira de estar se preparando para o mercado de trabalho em Ciência de Dados.']"
      ]
     },
     "execution_count": 29,
     "metadata": {},
     "output_type": "execute_result"
    }
   ],
   "source": [
    "# Dividir uma string por um elemento específico.\n",
    "s.split(\"y\")"
   ]
  },
  {
   "cell_type": "markdown",
   "id": "7dd6da58",
   "metadata": {},
   "source": [
    "### Funções Strings"
   ]
  },
  {
   "cell_type": "code",
   "execution_count": 30,
   "id": "6af9ef94",
   "metadata": {},
   "outputs": [
    {
     "name": "stdout",
     "output_type": "stream",
     "text": [
      "seja bem vindo ao universo da Linguagem Python!\n"
     ]
    }
   ],
   "source": [
    "s = 'seja bem vindo ao universo da Linguagem Python!'\n",
    "print(s)"
   ]
  },
  {
   "cell_type": "code",
   "execution_count": 31,
   "id": "ac2d4097",
   "metadata": {},
   "outputs": [
    {
     "data": {
      "text/plain": [
       "'Seja bem vindo ao universo da linguagem python!'"
      ]
     },
     "execution_count": 31,
     "metadata": {},
     "output_type": "execute_result"
    }
   ],
   "source": [
    "s.capitalize()"
   ]
  },
  {
   "cell_type": "code",
   "execution_count": 32,
   "id": "76fd5aab",
   "metadata": {},
   "outputs": [
    {
     "data": {
      "text/plain": [
       "4"
      ]
     },
     "execution_count": 32,
     "metadata": {},
     "output_type": "execute_result"
    }
   ],
   "source": [
    "s.count('a')"
   ]
  },
  {
   "cell_type": "code",
   "execution_count": 33,
   "id": "89d837b6",
   "metadata": {},
   "outputs": [
    {
     "data": {
      "text/plain": [
       "False"
      ]
     },
     "execution_count": 33,
     "metadata": {},
     "output_type": "execute_result"
    }
   ],
   "source": [
    "s.isalnum()"
   ]
  },
  {
   "cell_type": "code",
   "execution_count": 34,
   "id": "84ba2da2",
   "metadata": {},
   "outputs": [
    {
     "data": {
      "text/plain": [
       "False"
      ]
     },
     "execution_count": 34,
     "metadata": {},
     "output_type": "execute_result"
    }
   ],
   "source": [
    "s.islower()"
   ]
  },
  {
   "cell_type": "code",
   "execution_count": 35,
   "id": "bc9009d1",
   "metadata": {},
   "outputs": [
    {
     "data": {
      "text/plain": [
       "False"
      ]
     },
     "execution_count": 35,
     "metadata": {},
     "output_type": "execute_result"
    }
   ],
   "source": [
    "s.isspace()"
   ]
  },
  {
   "cell_type": "code",
   "execution_count": 37,
   "id": "ee8d73f2",
   "metadata": {},
   "outputs": [
    {
     "data": {
      "text/plain": [
       "True"
      ]
     },
     "execution_count": 37,
     "metadata": {},
     "output_type": "execute_result"
    }
   ],
   "source": [
    "s.endswith('!')"
   ]
  },
  {
   "cell_type": "markdown",
   "id": "d3f4c2d0",
   "metadata": {},
   "source": [
    "### Comparando Strings"
   ]
  },
  {
   "cell_type": "code",
   "execution_count": 38,
   "id": "1383b0ed",
   "metadata": {},
   "outputs": [
    {
     "name": "stdout",
     "output_type": "stream",
     "text": [
      "False\n"
     ]
    }
   ],
   "source": [
    "print(\"Python\" == \"R\")"
   ]
  },
  {
   "cell_type": "code",
   "execution_count": 39,
   "id": "897b1839",
   "metadata": {},
   "outputs": [
    {
     "name": "stdout",
     "output_type": "stream",
     "text": [
      "True\n"
     ]
    }
   ],
   "source": [
    "print(\"Python\" == \"Python\")"
   ]
  },
  {
   "cell_type": "markdown",
   "id": "362f18f2",
   "metadata": {},
   "source": [
    "## Fim!"
   ]
  },
  {
   "cell_type": "code",
   "execution_count": null,
   "id": "7171a13a",
   "metadata": {},
   "outputs": [],
   "source": []
  }
 ],
 "metadata": {
  "kernelspec": {
   "display_name": "Python 3 (ipykernel)",
   "language": "python",
   "name": "python3"
  },
  "language_info": {
   "codemirror_mode": {
    "name": "ipython",
    "version": 3
   },
   "file_extension": ".py",
   "mimetype": "text/x-python",
   "name": "python",
   "nbconvert_exporter": "python",
   "pygments_lexer": "ipython3",
   "version": "3.9.12"
  }
 },
 "nbformat": 4,
 "nbformat_minor": 5
}
